{
 "cells": [
  {
   "cell_type": "code",
   "execution_count": 1,
   "id": "103cd49b-52c9-407e-a951-d563179293f4",
   "metadata": {},
   "outputs": [],
   "source": [
    "import xarray as xr\n",
    "import numpy as np\n",
    "import pandas as pd\n",
    "from scipy.stats import pearsonr, spearmanr\n",
    "from dask.diagnostics import ProgressBar\n",
    "\n",
    "import matplotlib.pyplot as plt\n",
    "import matplotlib.colors as mcolors\n",
    "from matplotlib.lines import Line2D\n",
    "import cartopy.crs as ccrs\n",
    "\n",
    "from weatherbench2.visualization import set_wb2_style\n",
    "from weatherbench2.metrics import _spatial_average"
   ]
  },
  {
   "cell_type": "markdown",
   "id": "bcc1455d-129a-45b2-9436-3d74aa486edf",
   "metadata": {},
   "source": [
    "# Ground Truth ERA5"
   ]
  },
  {
   "cell_type": "code",
   "execution_count": null,
   "id": "a0142ece-8141-4883-ba26-e6678da2d924",
   "metadata": {},
   "outputs": [],
   "source": [
    "era5_pc0 = xr.open_dataset('results/era5_pc0.nc').load()"
   ]
  },
  {
   "cell_type": "code",
   "execution_count": 3,
   "id": "c915f71d-c290-4226-92b3-b297414456aa",
   "metadata": {},
   "outputs": [],
   "source": [
    "era5_pc0_spatial_avg = era5_pc0.map(_spatial_average, region=None, skipna=False)"
   ]
  },
  {
   "cell_type": "markdown",
   "id": "ff1dd7b6-a903-4907-b029-3369f62c012a",
   "metadata": {},
   "source": [
    "## GraphCast"
   ]
  },
  {
   "cell_type": "markdown",
   "id": "e6397089-f27c-4224-9db3-328b63e8729e",
   "metadata": {},
   "source": [
    "These jobs can be run on GCP as long as a project, bucket and region are specified"
   ]
  },
  {
   "cell_type": "code",
   "execution_count": null,
   "id": "335a3e8b-64c5-410c-9b49-c7f28a5d0c64",
   "metadata": {},
   "outputs": [],
   "source": [
    "python pc/compute_pc.py \\\n",
    "--prediction_path=gs://weatherbench2/datasets/graphcast/2020/date_range_2019-11-16_2021-02-01_12_hours-240x121_equiangular_with_poles_conservative.zarr \\\n",
    "--target_path=gs://weatherbench2/datasets/era5/1959-2023_01_10-6h-240x121_equiangular_with_poles_conservative.zarr \\\n",
    "--output_path=gs://$BUCKET/easyuq/pc/graphcast_240x121_vs_era5.zarr \\\n",
    "--variables=2m_temperature,mean_sea_level_pressure,10m_wind_speed,total_precipitation_24hr \\\n",
    "--time_start=2020-01-01 \\\n",
    "--time_stop=2020-12-31 \\\n",
    "--skip_non_headline=True \\\n",
    "--chunk_size_lon=8 \\\n",
    "--chunk_size_lat=11 \\\n",
    "--runner=DataflowRunner \\\n",
    "-- \\\n",
    "--project=$PROJECT \\\n",
    "--region=$REGION \\\n",
    "--job_name=compute-pc-graphcast-240x121 \\\n",
    "--temp_location=gs://$BUCKET/tmp/ \\\n",
    "--staging_location=gs://$BUCKET/staging/ \\\n",
    "--setup_file=./setup.py \\\n",
    "--worker_machine_type=c3-standard-8 \\\n",
    "--autoscaling_algorithm=THROUGHPUT_BASED"
   ]
  },
  {
   "cell_type": "code",
   "execution_count": 8,
   "id": "a1b92341-6b9f-4230-a01e-c60261df51d4",
   "metadata": {},
   "outputs": [
    {
     "name": "stdout",
     "output_type": "stream",
     "text": [
      "[########################################] | 100% Completed | 57.89 s\n"
     ]
    }
   ],
   "source": [
    "# Load PC results from the GCP bucket into memory\n",
    "with ProgressBar():\n",
    "    graphcast_vs_era5_pc = xr.open_zarr('gs://$BUCKET/easyuq/pc/graphcast_240x121_vs_era5.zarr').load()"
   ]
  },
  {
   "cell_type": "code",
   "execution_count": 34,
   "id": "809b0929-3b3b-42bb-b153-1d038b40c02f",
   "metadata": {},
   "outputs": [],
   "source": [
    "# Compute PCS\n",
    "graphcast_vs_era5_pcs = ((era5_pc0 - graphcast_vs_era5_pc.sel(metric='pc')) / era5_pc0).expand_dims({\"metric\": [\"pcs\"]})\n",
    "# Concatenate to other metrics\n",
    "graphcast_vs_era5_results = xr.concat([graphcast_vs_era5_pc, graphcast_vs_era5_pcs], dim=\"metric\")\n",
    "# Write to disk as NetCDF file\n",
    "graphcast_vs_era5_results.to_netcdf('results/graphcast_vs_era5.nc', engine='h5netcdf')"
   ]
  },
  {
   "cell_type": "code",
   "execution_count": 9,
   "id": "14d695fc-edaa-44da-a7f0-5ea1c4874ddc",
   "metadata": {},
   "outputs": [],
   "source": [
    "graphcast_vs_era5_results_spatial_avg = graphcast_vs_era5_results.sel(metric=['pc', 'pcs']).map(_spatial_average, region=None, skipna=False)"
   ]
  },
  {
   "cell_type": "markdown",
   "id": "b7284272-e32f-4cdd-a52e-ac1ce45e66d2",
   "metadata": {},
   "source": [
    "## Pangu-Weather"
   ]
  },
  {
   "cell_type": "code",
   "execution_count": null,
   "id": "1c030317-98b3-4195-bd39-c61793bfd060",
   "metadata": {},
   "outputs": [],
   "source": [
    "python pc/compute_pc.py \\\n",
    "--prediction_path=gs://weatherbench2/datasets/pangu/2018-2022_0012_240x121_equiangular_with_poles_conservative.zarr \\\n",
    "--target_path=gs://weatherbench2/datasets/era5/1959-2023_01_10-6h-240x121_equiangular_with_poles_conservative.zarr \\\n",
    "--output_path=gs://$BUCKET/easyuq/pc/pangu_240x121_vs_era5.zarr \\\n",
    "--variables=2m_temperature,mean_sea_level_pressure,10m_wind_speed \\\n",
    "--time_start=2020-01-01 \\\n",
    "--time_stop=2020-12-31 \\\n",
    "--skip_non_headline=True \\\n",
    "--chunk_size_lon=8 \\\n",
    "--chunk_size_lat=11 \\\n",
    "--runner=DataflowRunner \\\n",
    "-- \\\n",
    "--project=$PROJECT \\\n",
    "--region=$REGION \\\n",
    "--job_name=compute-pc-pangu-240x121 \\\n",
    "--temp_location=gs://$BUCKET/tmp/ \\\n",
    "--staging_location=gs://$BUCKET/staging/ \\\n",
    "--setup_file=./setup.py \\\n",
    "--worker_machine_type=c3-standard-8 \\\n",
    "--autoscaling_algorithm=THROUGHPUT_BASED"
   ]
  },
  {
   "cell_type": "code",
   "execution_count": 23,
   "id": "a20df9e6-fa09-411e-896b-955a4dcf826c",
   "metadata": {},
   "outputs": [
    {
     "name": "stdout",
     "output_type": "stream",
     "text": [
      "[########################################] | 100% Completed | 50.03 s\n"
     ]
    }
   ],
   "source": [
    "with ProgressBar():\n",
    "    pangu_vs_era5_pc = xr.open_zarr('gs://$BUCKET/easyuq/pc/pangu_240x121_vs_era5.zarr').load()"
   ]
  },
  {
   "cell_type": "code",
   "execution_count": 35,
   "id": "42c6579b-0181-4e2f-a5fb-52ae3b39193c",
   "metadata": {},
   "outputs": [],
   "source": [
    "pangu_vs_era5_pcs = ((era5_pc0 - pangu_vs_era5_pc.sel(metric='pc')) / era5_pc0).expand_dims({\"metric\": [\"pcs\"]})\n",
    "pangu_vs_era5_results = xr.concat([pangu_vs_era5_pc, pangu_vs_era5_pcs], dim=\"metric\")\n",
    "pangu_vs_era5_results.to_netcdf('results/pangu_vs_era5.nc', engine='h5netcdf')"
   ]
  },
  {
   "cell_type": "code",
   "execution_count": 11,
   "id": "375f934e-8ec0-4689-8a51-f851fdfcfccd",
   "metadata": {},
   "outputs": [],
   "source": [
    "pangu_vs_era5_results_spatial_avg = pangu_vs_era5_results.sel(metric=['pc', 'pcs']).map(_spatial_average, region=None, skipna=False)"
   ]
  },
  {
   "cell_type": "markdown",
   "id": "fab90e25-8d13-4c63-906f-25e4adfce495",
   "metadata": {},
   "source": [
    "## IFS HRES"
   ]
  },
  {
   "cell_type": "code",
   "execution_count": null,
   "id": "e157db5f-2860-4318-990a-fd23de23107b",
   "metadata": {},
   "outputs": [],
   "source": [
    "python pc/compute_pc.py \\\n",
    "--prediction_path=gs://weatherbench2/datasets/hres/2016-2022-0012-240x121_equiangular_with_poles_conservative.zarr \\\n",
    "--target_path=gs://weatherbench2/datasets/era5/1959-2023_01_10-6h-240x121_equiangular_with_poles_conservative.zarr \\\n",
    "--output_path=gs://$BUCKET/easyuq/pc/ifs_hres_240x121_vs_era5.zarr \\\n",
    "--variables=2m_temperature,mean_sea_level_pressure,10m_wind_speed,total_precipitation_24hr \\\n",
    "--time_start=2020-01-01 \\\n",
    "--time_stop=2020-12-31 \\\n",
    "--skip_non_headline=True \\\n",
    "--chunk_size_lon=8 \\\n",
    "--chunk_size_lat=11 \\\n",
    "--runner=DataflowRunner \\\n",
    "-- \\\n",
    "--project=$PROJECT \\\n",
    "--region=$REGION \\\n",
    "--job_name=compute-pc-ifs-hres-240x121 \\\n",
    "--temp_location=gs://$BUCKET/tmp/ \\\n",
    "--staging_location=gs://$BUCKET/staging/ \\\n",
    "--setup_file=./setup.py \\\n",
    "--worker_machine_type=c3-standard-8 \\\n",
    "--autoscaling_algorithm=THROUGHPUT_BASED"
   ]
  },
  {
   "cell_type": "code",
   "execution_count": 25,
   "id": "e2e79432-e2ac-4405-a6a3-e04bca8dcbe8",
   "metadata": {},
   "outputs": [
    {
     "name": "stdout",
     "output_type": "stream",
     "text": [
      "[########################################] | 100% Completed | 60.13 s\n"
     ]
    }
   ],
   "source": [
    "with ProgressBar():\n",
    "    ifs_hres_vs_era5_pc = xr.open_zarr('gs://$BUCKET/easyuq/pc/ifs_hres_240x121_vs_era5.zarr').load()"
   ]
  },
  {
   "cell_type": "code",
   "execution_count": 36,
   "id": "d0237122-0bb6-48d4-9843-410e898c0d74",
   "metadata": {},
   "outputs": [],
   "source": [
    "ifs_hres_vs_era5_pcs = ((era5_pc0 - ifs_hres_vs_era5_pc.sel(metric='pc')) / era5_pc0).expand_dims({\"metric\": [\"pcs\"]})\n",
    "ifs_hres_vs_era5_results = xr.concat([ifs_hres_vs_era5_pc, ifs_hres_vs_era5_pcs], dim=\"metric\")\n",
    "ifs_hres_vs_era5_results.to_netcdf('results/ifs_hres_vs_era5.nc', engine='h5netcdf')"
   ]
  },
  {
   "cell_type": "code",
   "execution_count": 13,
   "id": "681d01c7-1fa4-4205-8e6d-5728baf18127",
   "metadata": {},
   "outputs": [],
   "source": [
    "ifs_hres_vs_era5_results_spatial_avg = ifs_hres_vs_era5_results.sel(metric=['pc', 'pcs']).map(_spatial_average, region=None, skipna=False)"
   ]
  },
  {
   "cell_type": "markdown",
   "id": "27883ff4-9168-44d0-ac10-e40fa89e5a0b",
   "metadata": {},
   "source": [
    "# Ground Truth IFS Analysis"
   ]
  },
  {
   "cell_type": "code",
   "execution_count": 14,
   "id": "2950b567-982c-4f5a-afa4-72bc24099ed4",
   "metadata": {},
   "outputs": [],
   "source": [
    "ifs_analysis_pc0 = xr.open_dataset('results/ifs_analysis_pc0.nc').load()"
   ]
  },
  {
   "cell_type": "code",
   "execution_count": 15,
   "id": "61b7b5ae-eceb-46f1-9ae6-be5aea05a550",
   "metadata": {},
   "outputs": [],
   "source": [
    "ifs_analysis_pc0_spatial_avg = ifs_analysis_pc0.map(_spatial_average, region=None, skipna=False)"
   ]
  },
  {
   "cell_type": "markdown",
   "id": "1508c86b-4809-46ea-8944-13d285357995",
   "metadata": {},
   "source": [
    "## GraphCast"
   ]
  },
  {
   "cell_type": "code",
   "execution_count": null,
   "id": "39c246ef-c489-45a3-82e8-3e2ce7b0e3a5",
   "metadata": {},
   "outputs": [],
   "source": [
    "python pc/compute_pc.py \\\n",
    "--prediction_path=gs://weatherbench2/datasets/graphcast/2020/date_range_2019-11-16_2021-02-01_12_hours-240x121_equiangular_with_poles_conservative.zarr \\\n",
    "--target_path=gs://weatherbench2/datasets/hres_t0/2016-2022-6h-240x121_equiangular_with_poles_conservative.zarr \\\n",
    "--output_path=gs://$BUCKET/easyuq/pc/graphcast_240x121_vs_ifs_analysis.zarr \\\n",
    "--variables=2m_temperature,mean_sea_level_pressure,10m_wind_speed \\\n",
    "--time_start=2020-01-01 \\\n",
    "--time_stop=2020-12-31 \\\n",
    "--skip_non_headline=True \\\n",
    "--chunk_size_lon=8 \\\n",
    "--chunk_size_lat=11 \\\n",
    "--runner=DataflowRunner \\\n",
    "-- \\\n",
    "--project=$PROJECT \\\n",
    "--region=$REGION \\\n",
    "--job_name=compute-pc-graphcast-240x121-vs-analysis \\\n",
    "--temp_location=gs://$BUCKET/tmp/ \\\n",
    "--staging_location=gs://$BUCKET/staging/ \\\n",
    "--setup_file=./setup.py \\\n",
    "--worker_machine_type=c3-standard-8 \\\n",
    "--autoscaling_algorithm=THROUGHPUT_BASED"
   ]
  },
  {
   "cell_type": "code",
   "execution_count": 38,
   "id": "4afa5c17-84ff-4782-a9fe-636c7d1f7106",
   "metadata": {},
   "outputs": [
    {
     "name": "stdout",
     "output_type": "stream",
     "text": [
      "[########################################] | 100% Completed | 50.18 s\n"
     ]
    }
   ],
   "source": [
    "with ProgressBar():\n",
    "    graphcast_vs_ifs_analysis_pc = xr.open_zarr('gs://$BUCKET/easyuq/pc/graphcast_240x121_vs_ifs_analysis.zarr').load()"
   ]
  },
  {
   "cell_type": "code",
   "execution_count": 41,
   "id": "bf682535-8d97-4564-a086-43638e9e7436",
   "metadata": {},
   "outputs": [],
   "source": [
    "graphcast_vs_ifs_analysis_pcs = ((ifs_analysis_pc0 - graphcast_vs_ifs_analysis_pc.sel(metric='pc')) / ifs_analysis_pc0).expand_dims({\"metric\": [\"pcs\"]})\n",
    "graphcast_vs_ifs_analysis_results = xr.concat([graphcast_vs_ifs_analysis_pc, graphcast_vs_ifs_analysis_pcs], dim=\"metric\")\n",
    "graphcast_vs_ifs_analysis_results.to_netcdf('results/graphcast_vs_ifs_analysis.nc', engine='h5netcdf')"
   ]
  },
  {
   "cell_type": "code",
   "execution_count": 17,
   "id": "f0418378-7854-4b66-a7e4-405cd59fbaee",
   "metadata": {},
   "outputs": [],
   "source": [
    "graphcast_vs_ifs_analysis_results_spatial_avg = graphcast_vs_ifs_analysis_results.sel(metric=['pc', 'pcs']).map(_spatial_average, region=None, skipna=False)"
   ]
  },
  {
   "cell_type": "markdown",
   "id": "70b6e247-f6df-47c4-888e-1b4bafc3ccd1",
   "metadata": {},
   "source": [
    "## Pangu-Weather"
   ]
  },
  {
   "cell_type": "code",
   "execution_count": null,
   "id": "254de1bb-eb49-40ec-b9cf-7a5f176270c3",
   "metadata": {},
   "outputs": [],
   "source": [
    "python pc/compute_pc.py \\\n",
    "--prediction_path=gs://weatherbench2/datasets/pangu/2018-2022_0012_240x121_equiangular_with_poles_conservative.zarr \\\n",
    "--target_path=gs://weatherbench2/datasets/hres_t0/2016-2022-6h-240x121_equiangular_with_poles_conservative.zarr \\\n",
    "--output_path=gs://$BUCKET/easyuq/pc/pangu_240x121_vs_ifs_analysis.zarr \\\n",
    "--variables=2m_temperature,mean_sea_level_pressure,10m_wind_speed \\\n",
    "--time_start=2020-01-01 \\\n",
    "--time_stop=2020-12-31 \\\n",
    "--skip_non_headline=True \\\n",
    "--chunk_size_lon=8 \\\n",
    "--chunk_size_lat=11 \\\n",
    "--runner=DataflowRunner \\\n",
    "-- \\\n",
    "--project=$PROJECT \\\n",
    "--region=$REGION \\\n",
    "--job_name=compute-pc-pangu-240x121-vs-analysis  \\\n",
    "--temp_location=gs://$BUCKET/tmp/ \\\n",
    "--staging_location=gs://$BUCKET/staging/ \\\n",
    "--setup_file=./setup.py \\\n",
    "--worker_machine_type=c3-standard-8 \\\n",
    "--autoscaling_algorithm=THROUGHPUT_BASED"
   ]
  },
  {
   "cell_type": "code",
   "execution_count": 42,
   "id": "823267ec-2966-47ae-8579-95f85e4fdc20",
   "metadata": {},
   "outputs": [
    {
     "name": "stdout",
     "output_type": "stream",
     "text": [
      "[########################################] | 100% Completed | 46.31 s\n"
     ]
    }
   ],
   "source": [
    "with ProgressBar():\n",
    "    pangu_vs_ifs_analysis_pc = xr.open_zarr('gs://$BUCKET/easyuq/pc/pangu_240x121_vs_ifs_analysis.zarr').load()"
   ]
  },
  {
   "cell_type": "code",
   "execution_count": 43,
   "id": "52d95916-8003-4c71-8c2e-89cc1bbe8a78",
   "metadata": {},
   "outputs": [],
   "source": [
    "pangu_vs_ifs_analysis_pcs = ((ifs_analysis_pc0 - pangu_vs_ifs_analysis_pc.sel(metric='pc')) / ifs_analysis_pc0).expand_dims({\"metric\": [\"pcs\"]})\n",
    "pangu_vs_ifs_analysis_results = xr.concat([pangu_vs_ifs_analysis_pc, pangu_vs_ifs_analysis_pcs], dim=\"metric\")\n",
    "pangu_vs_ifs_analysis_results.to_netcdf('results/pangu_vs_ifs_analysis.nc', engine='h5netcdf')"
   ]
  },
  {
   "cell_type": "code",
   "execution_count": 19,
   "id": "be5bea53-08da-4252-87c1-02460022b001",
   "metadata": {},
   "outputs": [],
   "source": [
    "pangu_vs_ifs_analysis_results_spatial_avg = pangu_vs_ifs_analysis_results.sel(metric=['pc', 'pcs']).map(_spatial_average, region=None, skipna=False)"
   ]
  },
  {
   "cell_type": "markdown",
   "id": "243ef41f-f1ef-401f-b200-dba1c23cbcca",
   "metadata": {},
   "source": [
    "## IFS HRES"
   ]
  },
  {
   "cell_type": "code",
   "execution_count": null,
   "id": "45250100-1d41-4cbf-bc2f-374676895adc",
   "metadata": {},
   "outputs": [],
   "source": [
    "python pc/compute_pc.py \\\n",
    "--prediction_path=gs://weatherbench2/datasets/hres/2016-2022-0012-240x121_equiangular_with_poles_conservative.zarr \\\n",
    "--target_path=gs://weatherbench2/datasets/hres_t0/2016-2022-6h-240x121_equiangular_with_poles_conservative.zarr \\\n",
    "--output_path=gs://$BUCKET/easyuq/pc/ifs_hres_240x121_vs_ifs_analysis.zarr \\\n",
    "--variables=2m_temperature,mean_sea_level_pressure,10m_wind_speed \\\n",
    "--time_start=2020-01-01 \\\n",
    "--time_stop=2020-12-31 \\\n",
    "--skip_non_headline=True \\\n",
    "--chunk_size_lon=8 \\\n",
    "--chunk_size_lat=11 \\\n",
    "--runner=DataflowRunner \\\n",
    "-- \\\n",
    "--project=$PROJECT \\\n",
    "--region=$REGION \\\n",
    "--job_name=compute-pc-ifs-hres-240x121-vs-analysis \\\n",
    "--temp_location=gs://$BUCKET/tmp/ \\\n",
    "--staging_location=gs://$BUCKET/staging/ \\\n",
    "--setup_file=./setup.py \\\n",
    "--worker_machine_type=c3-standard-8 \\\n",
    "--autoscaling_algorithm=THROUGHPUT_BASED"
   ]
  },
  {
   "cell_type": "code",
   "execution_count": 44,
   "id": "ddf25021-93ab-477f-adb6-5c39b2b4436d",
   "metadata": {},
   "outputs": [
    {
     "name": "stdout",
     "output_type": "stream",
     "text": [
      "[########################################] | 100% Completed | 37.64 s\n"
     ]
    }
   ],
   "source": [
    "with ProgressBar():\n",
    "    ifs_hres_vs_ifs_analysis_pc = xr.open_zarr('gs://$BUCKET/easyuq/pc/ifs_hres_240x121_vs_ifs_analysis.zarr').load()"
   ]
  },
  {
   "cell_type": "code",
   "execution_count": 45,
   "id": "7b236eab-524c-436b-bf87-0bf700655924",
   "metadata": {},
   "outputs": [],
   "source": [
    "ifs_hres_vs_ifs_analysis_pcs = ((ifs_analysis_pc0 - ifs_hres_vs_ifs_analysis_pc.sel(metric='pc')) / ifs_analysis_pc0).expand_dims({\"metric\": [\"pcs\"]})\n",
    "ifs_hres_vs_ifs_analysis_results = xr.concat([ifs_hres_vs_ifs_analysis_pc, ifs_hres_vs_ifs_analysis_pcs], dim=\"metric\")\n",
    "ifs_hres_vs_ifs_analysis_results.to_netcdf('results/ifs_hres_vs_ifs_analysis.nc', engine='h5netcdf')"
   ]
  },
  {
   "cell_type": "code",
   "execution_count": 21,
   "id": "5bc31126-0f46-49f3-a3d7-b2df0bf97c68",
   "metadata": {},
   "outputs": [],
   "source": [
    "ifs_hres_vs_ifs_analysis_results_spatial_avg = ifs_hres_vs_ifs_analysis_results.sel(metric=['pc', 'pcs']).map(_spatial_average, region=None, skipna=False)"
   ]
  },
  {
   "cell_type": "markdown",
   "id": "25674c8a-decc-4f18-9866-f890c24dda73",
   "metadata": {},
   "source": [
    "# Plots"
   ]
  },
  {
   "cell_type": "code",
   "execution_count": 93,
   "id": "2c44b317-d7cc-46dc-b180-856ecbf0b186",
   "metadata": {},
   "outputs": [],
   "source": [
    "# Apply the WeatherBench2 plotting style\n",
    "set_wb2_style()"
   ]
  },
  {
   "cell_type": "code",
   "execution_count": 28,
   "id": "26d17c51-6948-41b3-8d77-9ce9a6ac6f0d",
   "metadata": {},
   "outputs": [],
   "source": [
    "# Ensure LaTeX‐style fonts for all text in the plots\n",
    "plt.rcParams['mathtext.fontset'] = 'stix'\n",
    "plt.rcParams['font.family'] = 'STIXGeneral'"
   ]
  },
  {
   "cell_type": "code",
   "execution_count": 22,
   "id": "866715fe-60d0-468d-a4d2-06dbff36e09e",
   "metadata": {},
   "outputs": [],
   "source": [
    "# Define variables, variable abbreviations and units\n",
    "variables = ['mean_sea_level_pressure', '2m_temperature', '10m_wind_speed', 'total_precipitation_24hr']\n",
    "titles = ['MSLP', 'T2M', 'WS10', 'TP24hr']\n",
    "units = [r'$\\left[ \\text{Pa} \\right]$', r'$ \\left[ \\text{K} \\right]$', r'$ \\left[ \\text{m}/\\text{s}^{-1} \\right] $', r'$\\left[ \\text{m}/\\text{d}^{-1} \\right]$']"
   ]
  },
  {
   "cell_type": "code",
   "execution_count": 23,
   "id": "8e5c1107-61b6-4b5c-a2b0-2177dc0a2af0",
   "metadata": {},
   "outputs": [],
   "source": [
    "# Lead times as numpy timedeltas for slicing\n",
    "lead_times = [\n",
    "    np.timedelta64(1, 'D'),\n",
    "    np.timedelta64(3, 'D'),\n",
    "    np.timedelta64(5, 'D'),\n",
    "    np.timedelta64(7, 'D'),\n",
    "    np.timedelta64(10, 'D')\n",
    "]\n",
    "# Convert timedeltas into integer days for plotting\n",
    "lead_time_days = lead_times/np.timedelta64(1, 'D')"
   ]
  },
  {
   "cell_type": "markdown",
   "id": "4587b28a-5af1-4fe2-8f10-54677b490646",
   "metadata": {},
   "source": [
    "Line plot for PC of WeatherBench 2 models with ERA5 (top) and IFS analysis (bottom) as ground truth, latitude weighted mean."
   ]
  },
  {
   "cell_type": "code",
   "execution_count": null,
   "id": "a5678aae-8b7f-43e3-b45b-e4db3ad2ab60",
   "metadata": {},
   "outputs": [],
   "source": [
    "# Create the figure and subplots\n",
    "fig, axes = plt.subplots(2, len(variables[:-1]), figsize=(16, 10))\n",
    "\n",
    "# ----------------------- Ground Truth Era5 -----------------------\n",
    "for ax, var, title, unit in zip(axes[0, :], variables[:-1], titles[:-1], units[:-1]):\n",
    "    ax.plot(lead_time_days,\n",
    "            era5_pc0_spatial_avg.sel(prediction_timedelta=lead_times)[var],\n",
    "            label='ERA5 $\\\\text{PC}^{(0)}$', color='tab:red')\n",
    "    ax.plot(lead_time_days,\n",
    "            ifs_hres_vs_era5_results_spatial_avg.sel(metric='pc')[var], color='tab:blue')\n",
    "    ax.plot(lead_time_days,\n",
    "            pangu_vs_era5_results_spatial_avg.sel(metric='pc')[var], color='tab:orange')\n",
    "    ax.plot(lead_time_days,\n",
    "            graphcast_vs_era5_results_spatial_avg.sel(metric='pc', prediction_timedelta=lead_times)[var], color='tab:green')\n",
    "\n",
    "    ax.set_xlabel('Lead Time [d]', fontsize=18)\n",
    "    ax.set_title(title, fontsize=22)\n",
    "    ax.set_xticks(lead_time_days)\n",
    "    ax.set_ylim(0)\n",
    "    ax.set_ylabel('Latitude Weighted Mean PC ' + unit, fontsize=17)\n",
    "    ax.tick_params(axis='both', which='major', labelsize=17)\n",
    "\n",
    "# ----------------------- Ground Truth IFS Analysis -----------------------\n",
    "for ax, var, title, unit in zip(axes[1, :], variables[:-1], titles[:-1], units[:-1]):\n",
    "    ax.plot(lead_time_days,\n",
    "            ifs_analysis_pc0_spatial_avg.sel(prediction_timedelta=lead_times)[var],\n",
    "            label='IFS Analysis $\\\\text{PC}^{(0)}$', color='tab:purple')\n",
    "    ax.plot(lead_time_days,\n",
    "            ifs_hres_vs_ifs_analysis_results_spatial_avg.sel(metric='pc')[var],\n",
    "            label='HRES', color='tab:blue')\n",
    "    ax.plot(lead_time_days,\n",
    "            pangu_vs_ifs_analysis_results_spatial_avg.sel(metric='pc')[var],\n",
    "            label='Pangu-Weather', color='tab:orange')\n",
    "    ax.plot(lead_time_days,\n",
    "            graphcast_vs_ifs_analysis_results_spatial_avg.sel(metric='pc', prediction_timedelta=lead_times)[var],\n",
    "            label='GraphCast', color='tab:green')\n",
    "\n",
    "    ax.set_xlabel('Lead Time [d]', fontsize=18)\n",
    "    ax.set_title(title, fontsize=22)\n",
    "    ax.set_xticks(lead_time_days)\n",
    "    ax.set_ylim(0)\n",
    "    ax.set_ylabel('Latitude Weighted Mean PC ' + unit, fontsize=17)\n",
    "    ax.tick_params(axis='both', which='major', labelsize=17)\n",
    "\n",
    "plt.tight_layout()\n",
    "plt.subplots_adjust(hspace=0.4)\n",
    "\n",
    "# ----------------------- Row Titles -----------------------\n",
    "# Upper row:\n",
    "row1_left = axes[0, 0].get_position().x0\n",
    "row1_right = axes[0, -1].get_position().x1\n",
    "row1_top = axes[0, 0].get_position().y1\n",
    "row1_center_x = (row1_left + row1_right) / 2\n",
    "\n",
    "# Lower row:\n",
    "row2_left = axes[1, 0].get_position().x0\n",
    "row2_right = axes[1, -1].get_position().x1\n",
    "row2_top = axes[1, 0].get_position().y1\n",
    "row2_center_x = (row2_left + row2_right) / 2\n",
    "\n",
    "# Place the row titles at some vertical offset above each row\n",
    "fig.text(row1_center_x, row1_top + 0.04, \"Ground Truth ERA5\", \n",
    "         ha='center', va='bottom', fontsize=22)\n",
    "fig.text(row2_center_x, row2_top + 0.04, \"Ground Truth IFS Analysis\", \n",
    "         ha='center', va='bottom', fontsize=22)\n",
    "\n",
    "# ----------------------- Combined Legend --------------------------\n",
    "handles_upper, labels_upper = axes[0, 0].get_legend_handles_labels()\n",
    "handles_lower, labels_lower = axes[1, 0].get_legend_handles_labels()\n",
    "\n",
    "# Combine them into a dictionary to eliminate duplicates\n",
    "combined_legend = {}\n",
    "for h, l in zip(handles_upper, labels_upper):\n",
    "    combined_legend[l] = h\n",
    "for h, l in zip(handles_lower, labels_lower):\n",
    "    combined_legend[l] = h\n",
    "\n",
    "combined_handles = list(combined_legend.values())\n",
    "combined_labels = list(combined_legend.keys())\n",
    "\n",
    "fig.legend(combined_handles, combined_labels, loc='lower center', ncol=5, \n",
    "           bbox_to_anchor=(0.5, -0.075), fontsize=22)\n",
    "\n",
    "plt.savefig('plots/lineplot_lat_mean_pc_without_precip.png', facecolor='white', edgecolor='none', bbox_inches='tight')"
   ]
  },
  {
   "cell_type": "markdown",
   "id": "95b11411-8b09-4fbc-8b99-365e554afffe",
   "metadata": {},
   "source": [
    "Map plot for PCS of GraphCast with ERA5 as ground truth."
   ]
  },
  {
   "cell_type": "code",
   "execution_count": null,
   "id": "f86b6748-30c4-4b61-802c-985f183cad0f",
   "metadata": {},
   "outputs": [],
   "source": [
    "# Create a meshgrid for plotting\n",
    "lon = era5_pc0['longitude'].values\n",
    "lat = era5_pc0['latitude'].values\n",
    "lon_grid, lat_grid = np.meshgrid(lon, lat)\n",
    "\n",
    "n_rows = len(lead_times)\n",
    "n_cols = len(variables[:-1])\n",
    "\n",
    "# Create a grid of subplots with one row per lead time and one column per variable\n",
    "fig, axes = plt.subplots(n_rows, n_cols, figsize=(n_cols * 6, n_rows * 4), subplot_kw={'projection': ccrs.Robinson()}, constrained_layout=True)\n",
    "\n",
    "for i, lt in enumerate(lead_times):\n",
    "    # Convert lead time to days for the row label\n",
    "    lt_days = int(lt / np.timedelta64(1, 'D'))\n",
    "    \n",
    "    for j, (var, var_title) in enumerate(zip(variables[:-1], titles[:-1])):\n",
    "        ax = axes[i, j]\n",
    "        ax.coastlines()\n",
    "        \n",
    "        # Select the data for the variable at the given lead time\n",
    "        data = graphcast_vs_era5_results.sel(metric='pcs', prediction_timedelta=lt)[var]\n",
    "        \n",
    "        # Normalize\n",
    "        norm = mcolors.Normalize(vmin=0, vmax=1)\n",
    "        \n",
    "        # Plot the data\n",
    "        mesh = ax.pcolormesh(lon_grid, lat_grid, data.T, cmap='viridis', norm=norm, transform=ccrs.PlateCarree(), linewidth=0.5)\n",
    "        \n",
    "        # Every subplot gets its variable title on top\n",
    "        ax.set_title(var_title, fontsize=24)\n",
    "        \n",
    "        # If this is the bottom row, add an x-axis label and the colorbar\n",
    "        if i == n_rows - 1:\n",
    "            ax.set_xlabel('Longitude')\n",
    "            cbar = plt.colorbar(mesh, ax=ax, orientation='horizontal', shrink=0.75, pad=0.1)\n",
    "            cbar.ax.tick_params(labelsize=18)\n",
    "            cbar.set_label('$\\\\text{PCS}^{(\\\\text{GraphCast})}$', fontsize=22)\n",
    "    \n",
    "    # Annotate the left-most subplot of the current row with the lead time information.\n",
    "    axes[i, 0].annotate(\n",
    "        f\"Lead Time: {lt_days} day\" if i==0 else f\"Lead Time: {lt_days} days\",\n",
    "        fontsize=22,\n",
    "        xy=(-0.1, 0.5), \n",
    "        xycoords='axes fraction',\n",
    "        rotation=90, \n",
    "        va='center'\n",
    "    )\n",
    "\n",
    "plt.savefig('plots/maps_graphcast_240x121_vs_era5_pcs_without_precip.png', facecolor='white', edgecolor='none', bbox_inches='tight')"
   ]
  },
  {
   "cell_type": "markdown",
   "id": "f8d48622-3c63-4562-a495-72f96a001dd1",
   "metadata": {},
   "source": [
    "Scatterplot for in-sample PC of IFS HRES vs out-of-sample CRPS of IFS ENS with ERA5 as ground truth."
   ]
  },
  {
   "cell_type": "code",
   "execution_count": null,
   "id": "69de427e-7a65-415d-a689-480e369c299c",
   "metadata": {},
   "outputs": [],
   "source": [
    "# Get CRPS of IFS ENS for each grid point using the official evaluation script from WeatherBench 2\n",
    "python weatherbench2/scripts/evaluate.py \\\n",
    "--forecast_path=gs://weatherbench2/datasets/ifs_ens/2018-2022-240x121_equiangular_with_poles_conservative.zarr \\\n",
    "--obs_path=gs://weatherbench2/datasets/era5/1959-2023_01_10-6h-240x121_equiangular_with_poles_conservative.zarr \\\n",
    "--climatology_path=gs://weatherbench2/datasets/era5-hourly-climatology/1990-2019_6h_240x121_equiangular_with_poles_conservative.zarr \\\n",
    "--output_dir=gs://$BUCKET/baseline/ \\\n",
    "--output_file_prefix=ifs_ens_240x121_surface_vs_era5_2020_ \\\n",
    "--input_chunks=init_time=1,lead_time=1 \\\n",
    "--eval_configs=probabilistic_spatial \\\n",
    "--variables=2m_temperature,mean_sea_level_pressure,10m_wind_speed,total_precipitation_24hr \\\n",
    "--use_beam=True \\\n",
    "--runner=DataflowRunner \\\n",
    "-- \\\n",
    "--project=$PROJECT \\\n",
    "--region=$REGION \\\n",
    "--job_name=evaluate-ifs-ens-240x121-vs-era5-surface \\\n",
    "--temp_location=gs://$BUCKET/tmp/ \\\n",
    "--setup_file=./wb2_eval_setup.py \\\n",
    "--worker_machine_type=c3-highmem-8 \\\n",
    "--autoscaling_algorithm=THROUGHPUT_BASED"
   ]
  },
  {
   "cell_type": "code",
   "execution_count": 31,
   "id": "ff0f716d-685c-483b-b9aa-3b356bf12705",
   "metadata": {},
   "outputs": [
    {
     "name": "stdout",
     "output_type": "stream",
     "text": [
      "[########################################] | 100% Completed | 1.82 ss\n"
     ]
    }
   ],
   "source": [
    "with ProgressBar():\n",
    "    ifs_ens_vs_era5 = xr.open_zarr('gs://$BUCKET/baseline/ifs_ens_240x121_surface_vs_era5_2020_probabilistic_spatial.zarr').sel(lead_time=lead_times, metric='crps').load()"
   ]
  },
  {
   "cell_type": "code",
   "execution_count": null,
   "id": "e4422c8a-ffbb-46cf-b427-2ca8827377bf",
   "metadata": {},
   "outputs": [],
   "source": [
    "ifs_ens_vs_era5.to_netcdf('results/ifs_ens_vs_era5_crps.nc', engine='h5netcdf')"
   ]
  },
  {
   "cell_type": "code",
   "execution_count": 43,
   "id": "4fe4821d-779c-4d9b-bbb9-f4de7b4c36f7",
   "metadata": {},
   "outputs": [],
   "source": [
    "ifs_ens_vs_era5 = xr.open_dataset('results/ifs_ens_vs_era5_crps.nc').load()"
   ]
  },
  {
   "cell_type": "code",
   "execution_count": 47,
   "id": "04bdcc02-fc59-4fb5-9060-589432b529ca",
   "metadata": {},
   "outputs": [],
   "source": [
    "ens_crps = ifs_ens_vs_era5.rename(lead_time=\"prediction_timedelta\").transpose(*ifs_hres_vs_era5_results.sel(metric=\"pc\").dims)\n",
    "hres_pc = ifs_hres_vs_era5_results.sel(metric=\"pc\")"
   ]
  },
  {
   "cell_type": "markdown",
   "id": "d16b8b02-8463-4a18-ba4b-f5a308daed71",
   "metadata": {},
   "source": [
    "Compute Pearson's $r$ and Spearman's $\\rho$ for for each variable overall as well as stratified by lead time."
   ]
  },
  {
   "cell_type": "code",
   "execution_count": 57,
   "id": "6aa90e98-bfc3-424f-a9fa-54db4587cb7d",
   "metadata": {},
   "outputs": [],
   "source": [
    "corr_df = pd.DataFrame(index=variables, columns=['pearson', 'spearman'])\n",
    "\n",
    "for i, var in enumerate(variables):    \n",
    "    x = ens_crps[var].values.flatten()\n",
    "    y = hres_pc[var].values.flatten()\n",
    "    pearson_val, _ = pearsonr(x, y)\n",
    "    spearman_val, _ = spearmanr(x, y)\n",
    "    corr_df.loc[var, 'pearson'] = pearson_val\n",
    "    corr_df.loc[var, 'spearman'] = spearman_val"
   ]
  },
  {
   "cell_type": "code",
   "execution_count": 58,
   "id": "3963d096-44d0-4604-b25a-51f2644988e6",
   "metadata": {},
   "outputs": [
    {
     "data": {
      "text/html": [
       "<div>\n",
       "<style scoped>\n",
       "    .dataframe tbody tr th:only-of-type {\n",
       "        vertical-align: middle;\n",
       "    }\n",
       "\n",
       "    .dataframe tbody tr th {\n",
       "        vertical-align: top;\n",
       "    }\n",
       "\n",
       "    .dataframe thead th {\n",
       "        text-align: right;\n",
       "    }\n",
       "</style>\n",
       "<table border=\"1\" class=\"dataframe\">\n",
       "  <thead>\n",
       "    <tr style=\"text-align: right;\">\n",
       "      <th></th>\n",
       "      <th>pearson</th>\n",
       "      <th>spearman</th>\n",
       "    </tr>\n",
       "  </thead>\n",
       "  <tbody>\n",
       "    <tr>\n",
       "      <th>mean_sea_level_pressure</th>\n",
       "      <td>0.996708</td>\n",
       "      <td>0.991663</td>\n",
       "    </tr>\n",
       "    <tr>\n",
       "      <th>2m_temperature</th>\n",
       "      <td>0.952673</td>\n",
       "      <td>0.966303</td>\n",
       "    </tr>\n",
       "    <tr>\n",
       "      <th>10m_wind_speed</th>\n",
       "      <td>0.995835</td>\n",
       "      <td>0.994627</td>\n",
       "    </tr>\n",
       "    <tr>\n",
       "      <th>total_precipitation_24hr</th>\n",
       "      <td>0.995726</td>\n",
       "      <td>0.99625</td>\n",
       "    </tr>\n",
       "  </tbody>\n",
       "</table>\n",
       "</div>"
      ],
      "text/plain": [
       "                           pearson  spearman\n",
       "mean_sea_level_pressure   0.996708  0.991663\n",
       "2m_temperature            0.952673  0.966303\n",
       "10m_wind_speed            0.995835  0.994627\n",
       "total_precipitation_24hr  0.995726   0.99625"
      ]
     },
     "execution_count": 58,
     "metadata": {},
     "output_type": "execute_result"
    }
   ],
   "source": [
    "corr_df"
   ]
  },
  {
   "cell_type": "code",
   "execution_count": 62,
   "id": "37506c24-2ceb-4a44-821b-d1b5f7d0c134",
   "metadata": {},
   "outputs": [],
   "source": [
    "pearson_df_lt = pd.DataFrame(index=variables, columns=[int(lt) for lt in lead_time_days])\n",
    "spearman_df_lt = pd.DataFrame(index=variables, columns=[int(lt) for lt in lead_time_days])\n",
    "\n",
    "for i, var in enumerate(variables):    \n",
    "    for j, lt in enumerate(hres_pc.prediction_timedelta):\n",
    "        x = ens_crps.sel(prediction_timedelta=lt)[var].values.flatten()\n",
    "        y = hres_pc.sel(prediction_timedelta=lt)[var].values.flatten()\n",
    "        pearson_val, _ = pearsonr(x, y)\n",
    "        spearman_val, _ = spearmanr(x, y)\n",
    "        pearson_df_lt.iloc[i,j] = pearson_val\n",
    "        spearman_df_lt.iloc[i,j] = spearman_val"
   ]
  },
  {
   "cell_type": "code",
   "execution_count": 63,
   "id": "c0de5b35-cba6-433c-b166-f73d58afb18f",
   "metadata": {},
   "outputs": [
    {
     "data": {
      "text/html": [
       "<div>\n",
       "<style scoped>\n",
       "    .dataframe tbody tr th:only-of-type {\n",
       "        vertical-align: middle;\n",
       "    }\n",
       "\n",
       "    .dataframe tbody tr th {\n",
       "        vertical-align: top;\n",
       "    }\n",
       "\n",
       "    .dataframe thead th {\n",
       "        text-align: right;\n",
       "    }\n",
       "</style>\n",
       "<table border=\"1\" class=\"dataframe\">\n",
       "  <thead>\n",
       "    <tr style=\"text-align: right;\">\n",
       "      <th></th>\n",
       "      <th>1</th>\n",
       "      <th>3</th>\n",
       "      <th>5</th>\n",
       "      <th>7</th>\n",
       "      <th>10</th>\n",
       "    </tr>\n",
       "  </thead>\n",
       "  <tbody>\n",
       "    <tr>\n",
       "      <th>mean_sea_level_pressure</th>\n",
       "      <td>0.964764</td>\n",
       "      <td>0.99237</td>\n",
       "      <td>0.997476</td>\n",
       "      <td>0.997799</td>\n",
       "      <td>0.996853</td>\n",
       "    </tr>\n",
       "    <tr>\n",
       "      <th>2m_temperature</th>\n",
       "      <td>0.928104</td>\n",
       "      <td>0.935061</td>\n",
       "      <td>0.955653</td>\n",
       "      <td>0.974082</td>\n",
       "      <td>0.984577</td>\n",
       "    </tr>\n",
       "    <tr>\n",
       "      <th>10m_wind_speed</th>\n",
       "      <td>0.921626</td>\n",
       "      <td>0.987055</td>\n",
       "      <td>0.995347</td>\n",
       "      <td>0.995762</td>\n",
       "      <td>0.994877</td>\n",
       "    </tr>\n",
       "    <tr>\n",
       "      <th>total_precipitation_24hr</th>\n",
       "      <td>0.995803</td>\n",
       "      <td>0.996243</td>\n",
       "      <td>0.995436</td>\n",
       "      <td>0.995902</td>\n",
       "      <td>0.997367</td>\n",
       "    </tr>\n",
       "  </tbody>\n",
       "</table>\n",
       "</div>"
      ],
      "text/plain": [
       "                                1         3         5         7         10\n",
       "mean_sea_level_pressure   0.964764   0.99237  0.997476  0.997799  0.996853\n",
       "2m_temperature            0.928104  0.935061  0.955653  0.974082  0.984577\n",
       "10m_wind_speed            0.921626  0.987055  0.995347  0.995762  0.994877\n",
       "total_precipitation_24hr  0.995803  0.996243  0.995436  0.995902  0.997367"
      ]
     },
     "execution_count": 63,
     "metadata": {},
     "output_type": "execute_result"
    }
   ],
   "source": [
    "pearson_df_lt"
   ]
  },
  {
   "cell_type": "code",
   "execution_count": 64,
   "id": "0e68c4a1-7591-4431-a781-231f5289036e",
   "metadata": {},
   "outputs": [
    {
     "data": {
      "text/html": [
       "<div>\n",
       "<style scoped>\n",
       "    .dataframe tbody tr th:only-of-type {\n",
       "        vertical-align: middle;\n",
       "    }\n",
       "\n",
       "    .dataframe tbody tr th {\n",
       "        vertical-align: top;\n",
       "    }\n",
       "\n",
       "    .dataframe thead th {\n",
       "        text-align: right;\n",
       "    }\n",
       "</style>\n",
       "<table border=\"1\" class=\"dataframe\">\n",
       "  <thead>\n",
       "    <tr style=\"text-align: right;\">\n",
       "      <th></th>\n",
       "      <th>1</th>\n",
       "      <th>3</th>\n",
       "      <th>5</th>\n",
       "      <th>7</th>\n",
       "      <th>10</th>\n",
       "    </tr>\n",
       "  </thead>\n",
       "  <tbody>\n",
       "    <tr>\n",
       "      <th>mean_sea_level_pressure</th>\n",
       "      <td>0.939209</td>\n",
       "      <td>0.99034</td>\n",
       "      <td>0.991967</td>\n",
       "      <td>0.99389</td>\n",
       "      <td>0.994446</td>\n",
       "    </tr>\n",
       "    <tr>\n",
       "      <th>2m_temperature</th>\n",
       "      <td>0.959281</td>\n",
       "      <td>0.96026</td>\n",
       "      <td>0.973456</td>\n",
       "      <td>0.981037</td>\n",
       "      <td>0.986573</td>\n",
       "    </tr>\n",
       "    <tr>\n",
       "      <th>10m_wind_speed</th>\n",
       "      <td>0.946904</td>\n",
       "      <td>0.987069</td>\n",
       "      <td>0.995232</td>\n",
       "      <td>0.995636</td>\n",
       "      <td>0.994534</td>\n",
       "    </tr>\n",
       "    <tr>\n",
       "      <th>total_precipitation_24hr</th>\n",
       "      <td>0.993713</td>\n",
       "      <td>0.99517</td>\n",
       "      <td>0.995589</td>\n",
       "      <td>0.996943</td>\n",
       "      <td>0.998432</td>\n",
       "    </tr>\n",
       "  </tbody>\n",
       "</table>\n",
       "</div>"
      ],
      "text/plain": [
       "                                1         3         5         7         10\n",
       "mean_sea_level_pressure   0.939209   0.99034  0.991967   0.99389  0.994446\n",
       "2m_temperature            0.959281   0.96026  0.973456  0.981037  0.986573\n",
       "10m_wind_speed            0.946904  0.987069  0.995232  0.995636  0.994534\n",
       "total_precipitation_24hr  0.993713   0.99517  0.995589  0.996943  0.998432"
      ]
     },
     "execution_count": 64,
     "metadata": {},
     "output_type": "execute_result"
    }
   ],
   "source": [
    "spearman_df_lt"
   ]
  },
  {
   "cell_type": "markdown",
   "id": "a7a71599-8c94-48c2-a0f1-c441ce8610bf",
   "metadata": {},
   "source": [
    "Plot the results"
   ]
  },
  {
   "cell_type": "code",
   "execution_count": null,
   "id": "b43f0e9d-3f2b-499c-b505-bf1d6643207c",
   "metadata": {},
   "outputs": [],
   "source": [
    "xlims = [(0, 830), (0, 4.3), (0, 3.2)] \n",
    "ylims = [(0, 830), (0, 4.3), (0, 3.2)]  \n",
    "\n",
    "fig, axes = plt.subplots(1, len(variables[:-1]), figsize=(24, 8))\n",
    "\n",
    "for ax, var, title, xlim_val, ylim_val, unit in zip(axes, variables[:-1], titles[:-1], xlims, ylims, units[:-1]):\n",
    "    \n",
    "    # Stack (prediction_timedelta, latitude, longitude) into one dimension \"points\"\n",
    "    ens_data_stacked = ifs_ens_vs_era5[var].rename(lead_time=\"prediction_timedelta\").stack(points=(\"prediction_timedelta\", \"latitude\", \"longitude\"))\n",
    "    hres_data_stacked = hres_pc[var].stack(points=(\"prediction_timedelta\", \"latitude\", \"longitude\"))\n",
    "    \n",
    "    # Align the two DataArrays so that they share matching coordinates\n",
    "    ens_aligned, hres_aligned = xr.align(ens_data_stacked, hres_data_stacked, join=\"inner\")\n",
    "    \n",
    "    # Convert to NumPy arrays\n",
    "    x = hres_aligned.values\n",
    "    y = ens_aligned.values\n",
    "    \n",
    "    # Extract lead times (in days) from the 'prediction_timedelta' coordinate\n",
    "    lt_days = ens_aligned[\"prediction_timedelta\"].dt.days.values\n",
    "    \n",
    "    # Use discrete, standard colors (one per unique lead time)\n",
    "    unique_leads = np.unique(lt_days)\n",
    "    standard_colors = ['C0', 'C1', 'C2', 'C3', 'C4']\n",
    "    lead_to_color = dict(zip(unique_leads, standard_colors))\n",
    "    \n",
    "    # Map the lead time values to the corresponding colors\n",
    "    point_colors = np.array([lead_to_color[lt] for lt in lt_days])\n",
    "    \n",
    "    # Create the scatter plot\n",
    "    ax.scatter(x[::-1], y[::-1], c=point_colors[::-1], s=2, alpha=0.7)\n",
    "    \n",
    "    # Add a reference line from the origin to the top-right corner of the limits\n",
    "    ax.plot([xlim_val[0], xlim_val[1]], [ylim_val[0], ylim_val[1]], color='k', linestyle='--', linewidth=1.5)\n",
    "    \n",
    "    ax.set_ylabel(\"ENS $\\overline{\\\\text{CRPS}}$ \" + unit, fontsize=20)\n",
    "    ax.set_xlabel(\"HRES PC \" + unit, fontsize=20)\n",
    "    ax.set_title(title, fontsize=28)\n",
    "    ax.set_xlim(xlim_val)\n",
    "    ax.set_ylim(ylim_val)\n",
    "    ax.tick_params(axis='both', which='major', labelsize=20)\n",
    "\n",
    "    # Build legend for Pearson's r in UL corner\n",
    "    pearson_handles = []\n",
    "    pearson_labels  = []\n",
    "    for j, lt in enumerate(unique_leads):\n",
    "        pearson_handles.append(Line2D([], [], color=lead_to_color[lt], marker='o', linestyle='None', markersize=6))\n",
    "        pearson_labels.append(f\"{pearson_df_lt.loc[var,lt]:.3f}\")\n",
    "\n",
    "    pearson_full = corr_df.loc[var, 'pearson']\n",
    "    leg1 = ax.legend(\n",
    "        pearson_handles, pearson_labels,\n",
    "        title=f\"$r$ = {pearson_full:.3f}\",\n",
    "        loc=\"upper left\",\n",
    "        fontsize=20, title_fontsize=20,\n",
    "        framealpha=0.5,\n",
    "        borderpad=0.2,\n",
    "        borderaxespad=0.2,\n",
    "        handletextpad=0.4\n",
    "    )\n",
    "    # Box the overall r\n",
    "    title1 = leg1.get_title()\n",
    "    title1.set_bbox(\n",
    "        dict(\n",
    "            mutation_aspect=0.33,\n",
    "            fill=False,\n",
    "            edgecolor='black',\n",
    "            boxstyle='round,pad=0.55,rounding_size=0.3'\n",
    "        )\n",
    "    )\n",
    "    ax.add_artist(leg1)\n",
    "\n",
    "    # Build legend for Spearman's ρ in LR corner\n",
    "    spearman_handles = []\n",
    "    spearman_labels  = []\n",
    "    for j, lt in enumerate(unique_leads):\n",
    "        spearman_handles.append(Line2D([], [], color=lead_to_color[lt], marker='o', linestyle='None', markersize=6))\n",
    "        spearman_labels.append(f\"{spearman_df_lt.loc[var,lt]:.3f}\")\n",
    "        \n",
    "    spearman_full = corr_df.loc[var, 'spearman']\n",
    "    leg2 = ax.legend(\n",
    "        spearman_handles, spearman_labels,\n",
    "        title=f\"$\\\\rho$ = {spearman_full:.3f}\",\n",
    "        loc=\"lower right\",\n",
    "        fontsize=20, title_fontsize=20,\n",
    "        framealpha=0.5,\n",
    "        borderpad=0.2,\n",
    "        borderaxespad=0.2,\n",
    "        handletextpad=0.4\n",
    "    )\n",
    "    # Box the overall ρ\n",
    "    title2 = leg2.get_title()\n",
    "    title2.set_bbox(\n",
    "        dict(\n",
    "            mutation_aspect=0.37,\n",
    "            fill=False,\n",
    "            edgecolor='black',\n",
    "            boxstyle='round,pad=0.45,rounding_size=0.3'\n",
    "        )\n",
    "    )\n",
    "\n",
    "# Create combined legend\n",
    "legend_handles = []\n",
    "for lt in unique_leads:\n",
    "    color = lead_to_color[lt]\n",
    "    handle = Line2D([], [], color=color, marker='o', linestyle='None', markersize=6, label=int(lt))\n",
    "    legend_handles.append(handle)\n",
    "\n",
    "# Add the legend at the bottom center of the figure.\n",
    "fig.legend(\n",
    "    legend_handles, \n",
    "    [handle.get_label() for handle in legend_handles],\n",
    "    loc='lower center', \n",
    "    ncol=len(unique_leads), \n",
    "    bbox_to_anchor=(0.5175, 0.0), \n",
    "    fontsize=18, \n",
    "    title='Lead Time [d]', \n",
    "    title_fontsize=20, \n",
    "    prop={'size': 20}, \n",
    "    handletextpad=0.5\n",
    ")\n",
    "\n",
    "plt.tight_layout(rect=[0, 0.1, 1, 1])\n",
    "\n",
    "plt.savefig('plots/scatterplot_ens_vs_hres.png', facecolor='white', edgecolor='none', bbox_inches='tight')"
   ]
  }
 ],
 "metadata": {
  "kernelspec": {
   "display_name": "Python 3 (ipykernel)",
   "language": "python",
   "name": "python3"
  },
  "language_info": {
   "codemirror_mode": {
    "name": "ipython",
    "version": 3
   },
   "file_extension": ".py",
   "mimetype": "text/x-python",
   "name": "python",
   "nbconvert_exporter": "python",
   "pygments_lexer": "ipython3",
   "version": "3.10.14"
  }
 },
 "nbformat": 4,
 "nbformat_minor": 5
}
